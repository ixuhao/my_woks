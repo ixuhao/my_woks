{
 "metadata": {
  "name": ""
 },
 "nbformat": 3,
 "nbformat_minor": 0,
 "worksheets": [
  {
   "cells": [
    {
     "cell_type": "markdown",
     "metadata": {},
     "source": [
      "# SimpleCV Warp\n",
      "\n",
      "http://uberhip.com/python/image-processing/opencv/2014/10/26/warping-brien/\n",
      "\n",
      "http://www.simplecv.org/docs/SimpleCV.html#i/SimpleCV.ImageClass.Image/warp\n",
      "\n",
      "http://www.simplecv.org/docs/SimpleCV.html#i/SimpleCV.ImageClass.Image/transformPerspective\n",
      "\n",
      "http://www.tuicool.com/articles/UNRzQbq\n",
      "\n",
      "http://www.pyimagesearch.com/2014/03/10/building-pokedex-python-getting-started-step-1-6/\n",
      "\n",
      "http://docs.opencv.org/modules/imgproc/doc/geometric_transformations.html"
     ]
    },
    {
     "cell_type": "code",
     "collapsed": false,
     "input": [
      "from SimpleCV import Image, Display\n",
      "import cv, cv2\n",
      "import numpy as np"
     ],
     "language": "python",
     "metadata": {},
     "outputs": [],
     "prompt_number": 52
    },
    {
     "cell_type": "code",
     "collapsed": false,
     "input": [
      "img = Image(\"lenna\")\n",
      "disp = Display((400, 300))\n",
      "#points = ((50,0),(img.width-50,0),(img.width,img.height),(0,img.height))\n",
      "points = ((0,0),(img.width, 0),(img.width, img.height),(0, img.height))\n",
      "#src = ((30, 30), (img.width-10, 70), (img.width-1-40, img.height-1+30),(20,img.height+10))\n",
      "src = ((30, 30), (img.width-10, 70), (img.width-1-40, img.height-1-30),(20,img.height-10))\n",
      "result = cv.CreateMat(3,3,cv.CV_32FC1)\n",
      "tt = img.transformPerspective(result)\n",
      "tt.save(disp)"
     ],
     "language": "python",
     "metadata": {},
     "outputs": []
    },
    {
     "cell_type": "code",
     "collapsed": false,
     "input": [
      "img = Image(\"download.png\")\n",
      "disp = Display((400, 300))\n",
      "while disp.isNotDone():\n",
      "    img.save(disp)\n",
      "    if disp.leftButtonDown:\n",
      "        print(disp.leftButtonDownPosition())"
     ],
     "language": "python",
     "metadata": {},
     "outputs": []
    },
    {
     "cell_type": "code",
     "collapsed": false,
     "input": [
      "img = Image(\"download.png\")\n",
      "disp = Display((400, 300))\n",
      "src = np.float32([[329, 147],[523, 173],[551, 517], [717, 453]])\n",
      "#pioints = ((0,0),(img.width, 0),(img.width, img.height),(0, img.height))\n",
      "pioints = np.float32([[0,0],[700, 0],[700, 400],[0, 400]])\n",
      "#result = cv.CreateMat(3,3,cv.CV_32FC1)\n",
      "#cv.GetPerspectiveTransform(src,points,result)\n",
      "result = cv2.getPerspectiveTransform(src, points)\n",
      "#tt = img.transformPerspective(result)\n",
      "tt = cv2.warpPerspective(img, result, (700, 400))\n",
      "tt.save(disp)"
     ],
     "language": "python",
     "metadata": {},
     "outputs": [
      {
       "ename": "TypeError",
       "evalue": "<unknown> is not a numpy array",
       "output_type": "pyerr",
       "traceback": [
        "\u001b[1;31m---------------------------------------------------------------------------\u001b[0m\n\u001b[1;31mTypeError\u001b[0m                                 Traceback (most recent call last)",
        "\u001b[1;32m<ipython-input-56-7d87469f4c96>\u001b[0m in \u001b[0;36m<module>\u001b[1;34m()\u001b[0m\n\u001b[0;32m      6\u001b[0m \u001b[1;31m#result = cv.CreateMat(3,3,cv.CV_32FC1)\u001b[0m\u001b[1;33m\u001b[0m\u001b[1;33m\u001b[0m\u001b[0m\n\u001b[0;32m      7\u001b[0m \u001b[1;31m#cv.GetPerspectiveTransform(src,points,result)\u001b[0m\u001b[1;33m\u001b[0m\u001b[1;33m\u001b[0m\u001b[0m\n\u001b[1;32m----> 8\u001b[1;33m \u001b[0mresult\u001b[0m \u001b[1;33m=\u001b[0m \u001b[0mcv2\u001b[0m\u001b[1;33m.\u001b[0m\u001b[0mgetPerspectiveTransform\u001b[0m\u001b[1;33m(\u001b[0m\u001b[0msrc\u001b[0m\u001b[1;33m,\u001b[0m \u001b[0mpoints\u001b[0m\u001b[1;33m)\u001b[0m\u001b[1;33m\u001b[0m\u001b[0m\n\u001b[0m\u001b[0;32m      9\u001b[0m \u001b[1;31m#tt = img.transformPerspective(result)\u001b[0m\u001b[1;33m\u001b[0m\u001b[1;33m\u001b[0m\u001b[0m\n\u001b[0;32m     10\u001b[0m \u001b[0mtt\u001b[0m \u001b[1;33m=\u001b[0m \u001b[0mcv2\u001b[0m\u001b[1;33m.\u001b[0m\u001b[0mwarpPerspective\u001b[0m\u001b[1;33m(\u001b[0m\u001b[0mimg\u001b[0m\u001b[1;33m,\u001b[0m \u001b[0mresult\u001b[0m\u001b[1;33m,\u001b[0m \u001b[1;33m(\u001b[0m\u001b[1;36m700\u001b[0m\u001b[1;33m,\u001b[0m \u001b[1;36m400\u001b[0m\u001b[1;33m)\u001b[0m\u001b[1;33m)\u001b[0m\u001b[1;33m\u001b[0m\u001b[0m\n",
        "\u001b[1;31mTypeError\u001b[0m: <unknown> is not a numpy array"
       ]
      }
     ],
     "prompt_number": 56
    },
    {
     "cell_type": "code",
     "collapsed": false,
     "input": [
      "disp.quit()"
     ],
     "language": "python",
     "metadata": {},
     "outputs": [],
     "prompt_number": 57
    }
   ],
   "metadata": {}
  }
 ]
}